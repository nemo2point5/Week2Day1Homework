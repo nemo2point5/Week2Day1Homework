{
 "cells": [
  {
   "cell_type": "code",
   "execution_count": 1,
   "metadata": {},
   "outputs": [
    {
     "name": "stdout",
     "output_type": "stream",
     "text": [
      "[8, 64, 216, 512, 1000]\n"
     ]
    }
   ],
   "source": [
    "#Exercise #1\n",
    "#Cube Number Test... Print out all cubed numbers up to the total value 1000. Meaning that if the cubed number is over 1000 break the loop.\n",
    "\n",
    "range(1,11)\n",
    "cubed_by_four = [x**3 for x in range(1,11) if x**x % 4 == 0]\n",
    "print(cubed_by_four)"
   ]
  },
  {
   "cell_type": "code",
   "execution_count": 3,
   "metadata": {},
   "outputs": [
    {
     "name": "stdout",
     "output_type": "stream",
     "text": [
      " 0: 0\n",
      " 101: 100\n",
      " 0   2   3   5   7   11   13   17   19   23   29   31   37   41   43   47   53   59   61   67   71   73   79   83   89   97  "
     ]
    }
   ],
   "source": [
    "#Exercise #2\n",
    "#Get first prime numbers up to 100\n",
    "\n",
    "# HINT::\n",
    "# An else after an if runs if the if didn’t\n",
    "# An else after a for runs if the for didn’t break\n",
    "\n",
    "minimum = int(input(\" 0: \"))\n",
    "maximum = int(input(\" 101: \"))\n",
    "\n",
    "Number = minimum\n",
    "\n",
    "while(Number <= maximum):\n",
    "    count = 0\n",
    "    i = 2\n",
    "    \n",
    "    while(i <= Number//2):\n",
    "        if(Number % i == 0):\n",
    "            count = count + 1\n",
    "            break\n",
    "        i = i + 1\n",
    "\n",
    "    if (count == 0 and Number != 1):\n",
    "        print(\" %d\" %Number, end = '  ')\n",
    "    Number = Number  + 1"
   ]
  },
  {
   "cell_type": "code",
   "execution_count": null,
   "metadata": {},
   "outputs": [
    {
     "name": "stdout",
     "output_type": "stream",
     "text": [
      "How old are you?57\n",
      "You're an adult.\n",
      "How old are you?12\n",
      "You're a kid.\n",
      "How old are you?94\n",
      "You're a senior.\n"
     ]
    }
   ],
   "source": [
    "#Exercise 3\n",
    "#Take in a users input for their age, if they are younger than 18 print kids, if they're 18 to 65 print adults, else print seniors\n",
    "\n",
    "prompt = \"How old are you?\"\n",
    "\n",
    "while True:\n",
    "    age = input(prompt)\n",
    "    if age == 'quit':\n",
    "        break\n",
    "    age = int(age)\n",
    "\n",
    "    if age < 18:\n",
    "        print(\"You're a kid.\")\n",
    "    elif age < 65:\n",
    "        print(\"You're an adult.\")\n",
    "    else:\n",
    "        print(\"You're a senior.\")"
   ]
  },
  {
   "cell_type": "code",
   "execution_count": null,
   "metadata": {},
   "outputs": [],
   "source": []
  }
 ],
 "metadata": {
  "kernelspec": {
   "display_name": "Python 3",
   "language": "python",
   "name": "python3"
  },
  "language_info": {
   "codemirror_mode": {
    "name": "ipython",
    "version": 3
   },
   "file_extension": ".py",
   "mimetype": "text/x-python",
   "name": "python",
   "nbconvert_exporter": "python",
   "pygments_lexer": "ipython3",
   "version": "3.7.3"
  }
 },
 "nbformat": 4,
 "nbformat_minor": 2
}
